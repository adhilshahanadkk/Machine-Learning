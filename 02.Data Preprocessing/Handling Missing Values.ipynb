{
 "cells": [
  {
   "cell_type": "markdown",
   "metadata": {},
   "source": [
    "# Handling Missing Values"
   ]
  },
  {
   "cell_type": "markdown",
   "metadata": {},
   "source": [
    "When working with data, it’s very common for data scientists to come across missing values. Handling these missing values is important because most machine learning algorithms cannot work with them properly. Even if some algorithms like KNN and Naive Bayes can handle missing data, the results may not be accurate. That’s why managing missing values carefully is important to get good model performance.\n",
    "\n",
    "Just like with other steps in data analysis, there isn’t one method that works for every situation. Different problems, like time series, machine learning, or regression, may need different approaches. So, it’s hard to give one general solution.\n",
    "\n",
    "In this document, we will look at the types of missing values and different ways to handle them.\n",
    "\n"
   ]
  },
  {
   "cell_type": "markdown",
   "metadata": {},
   "source": [
    "#### Types of missing values"
   ]
  },
  {
   "cell_type": "markdown",
   "metadata": {},
   "source": [
    "##### 1. Missing Completely at Random (MCAR)\n",
    "\n",
    "In this case, missing values happen purely by chance, with no connection to any other data in the dataset. There is no pattern behind why the data is missing.\n",
    "We can say that every data point has an equal chance of being missing.\n",
    "\n",
    "Example:\n",
    "Imagine after a customer service call, customers are asked to rate their experience. Some customers may choose to give feedback, and some may not — purely by their own choice, without any link to how good or bad their experience was.\n",
    "Here, the missing values in the feedback column would be considered MCAR."
   ]
  },
  {
   "cell_type": "markdown",
   "metadata": {},
   "source": [
    "##### 2. Missing at Random (MAR)\n",
    "\n",
    "In this case, missing values are not completely random. Instead, the missingness can be linked to other available information in the dataset.\n",
    "In other words, whether a value is missing may depend on another variable.\n",
    "\n",
    "Example:\n",
    "Imagine a survey at a dermatology clinic that asks people about their gender and skincare routine. Suppose most women respond, but many men choose not to answer.\n",
    "Here, the missing data in the skincare routine column is related to gender. So, the missing values are considered MAR."
   ]
  },
  {
   "cell_type": "markdown",
   "metadata": {},
   "source": [
    "##### 3. Missing Not at Random (MNAR)\n",
    "\n",
    "In this case, missing values are not random and cannot be explained by the available data.\n",
    "The missingness is related to information that we do not have, making it more difficult to handle.\n",
    "\n",
    "Example:\n",
    "In a survey, people with higher incomes might choose not to reveal their exact earnings.\n",
    "Since the reason for missing data is linked to the hidden (unobserved) information, it is considered MNAR."
   ]
  },
  {
   "cell_type": "markdown",
   "metadata": {},
   "source": []
  },
  {
   "cell_type": "markdown",
   "metadata": {},
   "source": [
    "##### How to know if the dataset has missing values?\n",
    "\n",
    "Missing values are usually represented in the form of Nan or null or None in the dataset.\n"
   ]
  },
  {
   "cell_type": "code",
   "execution_count": 22,
   "metadata": {},
   "outputs": [
    {
     "name": "stdout",
     "output_type": "stream",
     "text": [
      "<class 'pandas.core.frame.DataFrame'>\n",
      "RangeIndex: 891 entries, 0 to 890\n",
      "Data columns (total 12 columns):\n",
      " #   Column       Non-Null Count  Dtype  \n",
      "---  ------       --------------  -----  \n",
      " 0   PassengerId  891 non-null    int64  \n",
      " 1   Survived     891 non-null    int64  \n",
      " 2   Pclass       891 non-null    int64  \n",
      " 3   Name         891 non-null    object \n",
      " 4   Sex          891 non-null    object \n",
      " 5   Age          714 non-null    float64\n",
      " 6   SibSp        891 non-null    int64  \n",
      " 7   Parch        891 non-null    int64  \n",
      " 8   Ticket       891 non-null    object \n",
      " 9   Fare         891 non-null    float64\n",
      " 10  Cabin        204 non-null    object \n",
      " 11  Embarked     889 non-null    object \n",
      "dtypes: float64(2), int64(5), object(5)\n",
      "memory usage: 83.7+ KB\n"
     ]
    }
   ],
   "source": [
    "# Example (using Pandas):\n",
    "\n",
    "import pandas as pd\n",
    "import numpy as np\n",
    "\n",
    "# Load the dataset\n",
    "df = pd.read_csv('./Titanic-Dataset.csv')\n",
    "df.head()\n",
    "\n",
    "df.info()"
   ]
  },
  {
   "cell_type": "markdown",
   "metadata": {},
   "source": [
    "**df.isnull().sum()** gives the features name along with the count of null values for that particular feature."
   ]
  },
  {
   "cell_type": "code",
   "execution_count": 23,
   "metadata": {},
   "outputs": [
    {
     "data": {
      "text/plain": [
       "PassengerId      0\n",
       "Survived         0\n",
       "Pclass           0\n",
       "Name             0\n",
       "Sex              0\n",
       "Age            177\n",
       "SibSp            0\n",
       "Parch            0\n",
       "Ticket           0\n",
       "Fare             0\n",
       "Cabin          687\n",
       "Embarked         2\n",
       "dtype: int64"
      ]
     },
     "execution_count": 23,
     "metadata": {},
     "output_type": "execute_result"
    }
   ],
   "source": [
    "df.isnull().sum()"
   ]
  },
  {
   "cell_type": "markdown",
   "metadata": {},
   "source": [
    "### What are the ways to deal with missing data?"
   ]
  },
  {
   "cell_type": "markdown",
   "metadata": {},
   "source": [
    "#### 1. Deleting the column with missing data\n",
    "\n",
    "If a column has a large number of missing values — meaning most of its entries are NULL — it may be better to drop the entire column.\n",
    "\n",
    "Example:\n",
    "In our dataset, the Cabin column has 687 missing values out of 891 total entries. Since more than half of the values are missing, it makes sense to simply remove this column"
   ]
  },
  {
   "cell_type": "code",
   "execution_count": 24,
   "metadata": {},
   "outputs": [
    {
     "data": {
      "text/plain": [
       "PassengerId      0\n",
       "Survived         0\n",
       "Pclass           0\n",
       "Name             0\n",
       "Sex              0\n",
       "Age            177\n",
       "SibSp            0\n",
       "Parch            0\n",
       "Ticket           0\n",
       "Fare             0\n",
       "Embarked         2\n",
       "dtype: int64"
      ]
     },
     "execution_count": 24,
     "metadata": {},
     "output_type": "execute_result"
    }
   ],
   "source": [
    "df = df.drop(['Cabin'],axis=1)\n",
    "df.isnull().sum()"
   ]
  },
  {
   "cell_type": "markdown",
   "metadata": {},
   "source": [
    "#### 2. Deleting Rows with Missing Data\n",
    "\n",
    "In this method, we remove any row that contains at least one missing (NULL) value.\n",
    "\n",
    "However, this is usually not the best approach because data is valuable, and deleting rows can result in the loss of important information.\n",
    "Even if only one column is missing, the entire row gets deleted.\n",
    "\n",
    "For example, if most rows have some missing values, using this method could lead to losing a large part — or even all — of your dataset."
   ]
  },
  {
   "cell_type": "code",
   "execution_count": 25,
   "metadata": {},
   "outputs": [
    {
     "name": "stdout",
     "output_type": "stream",
     "text": [
      "<class 'pandas.core.frame.DataFrame'>\n",
      "Index: 712 entries, 0 to 890\n",
      "Data columns (total 11 columns):\n",
      " #   Column       Non-Null Count  Dtype  \n",
      "---  ------       --------------  -----  \n",
      " 0   PassengerId  712 non-null    int64  \n",
      " 1   Survived     712 non-null    int64  \n",
      " 2   Pclass       712 non-null    int64  \n",
      " 3   Name         712 non-null    object \n",
      " 4   Sex          712 non-null    object \n",
      " 5   Age          712 non-null    float64\n",
      " 6   SibSp        712 non-null    int64  \n",
      " 7   Parch        712 non-null    int64  \n",
      " 8   Ticket       712 non-null    object \n",
      " 9   Fare         712 non-null    float64\n",
      " 10  Embarked     712 non-null    object \n",
      "dtypes: float64(2), int64(5), object(4)\n",
      "memory usage: 66.8+ KB\n"
     ]
    }
   ],
   "source": [
    "# Deletes the rows which has atleast one null value\n",
    "\n",
    "updated_df = df.dropna(axis=0, inplace = True)\n",
    "\n",
    "df.info()"
   ]
  },
  {
   "cell_type": "markdown",
   "metadata": {},
   "source": [
    "Out of the 891 rows, 177 rows has age as NULL and 2 rows with embark_town as NULL. On deletion of those rows we get 712 rows as a result."
   ]
  },
  {
   "cell_type": "markdown",
   "metadata": {},
   "source": [
    "#### 3. Imputing Missing Values with Mean/Median\n",
    "\n",
    "For columns with numeric continuous values, missing data can be filled in using the mean, median, or mode of the remaining values in the column.\n",
    "This method helps prevent data loss compared to deleting rows.\n",
    "\n",
    "Imputing using the mean or median is a statistical way to handle missing values. It works well when only a small number of values are missing. However, if there are many missing values, using the mean or median might reduce the variation in the data.\n",
    "\n",
    "- Mean imputation works well for data that is normally distributed.\n",
    "\n",
    "- Median imputation is better for skewed data.\n",
    "\n",
    "However, this method has a few downsides:\n",
    "\n",
    "- It can’t be used for categorical data.\n",
    "\n",
    "- Mean imputation is sensitive to outliers, and may not accurately represent the central tendency of the data."
   ]
  },
  {
   "cell_type": "code",
   "execution_count": 26,
   "metadata": {},
   "outputs": [
    {
     "name": "stdout",
     "output_type": "stream",
     "text": [
      "None\n"
     ]
    },
    {
     "name": "stderr",
     "output_type": "stream",
     "text": [
      "/var/folders/7x/2gm7rkgn3xv_p892v01706fm01_4y5/T/ipykernel_92420/949133264.py:1: FutureWarning: A value is trying to be set on a copy of a DataFrame or Series through chained assignment using an inplace method.\n",
      "The behavior will change in pandas 3.0. This inplace method will never work because the intermediate object on which we are setting values always behaves as a copy.\n",
      "\n",
      "For example, when doing 'df[col].method(value, inplace=True)', try using 'df.method({col: value}, inplace=True)' or df[col] = df[col].method(value) instead, to perform the operation inplace on the original object.\n",
      "\n",
      "\n",
      "  print(df['Age'].fillna(df['Age'].mean(), inplace=True))\n"
     ]
    },
    {
     "data": {
      "text/plain": [
       "PassengerId    0\n",
       "Survived       0\n",
       "Pclass         0\n",
       "Name           0\n",
       "Sex            0\n",
       "Age            0\n",
       "SibSp          0\n",
       "Parch          0\n",
       "Ticket         0\n",
       "Fare           0\n",
       "Embarked       0\n",
       "dtype: int64"
      ]
     },
     "execution_count": 26,
     "metadata": {},
     "output_type": "execute_result"
    }
   ],
   "source": [
    "print(df['Age'].fillna(df['Age'].mean(), inplace=True))\n",
    "\n",
    "\n",
    "df.isnull().sum()"
   ]
  },
  {
   "cell_type": "markdown",
   "metadata": {},
   "source": [
    "##### 3.1 Imputing missing values with mean/median of group\n",
    "\n",
    "We can fill the missing values using group level statistics in the following manner.\n",
    "\n",
    "#Mean\n",
    "\n",
    "df['age'] = df['age'].fillna(df.groupby('class')['age'].transform('mean'))\n",
    "\n",
    "#Median\n",
    "\n",
    "df['age'] = df['age'].fillna(df.groupby('class')['age'].transform('median'))\n",
    "\n"
   ]
  },
  {
   "cell_type": "markdown",
   "metadata": {},
   "source": [
    "#### 4. Imputation Method for Categorical Columns\n",
    "\n",
    "For columns with categorical data (either strings or numbers), missing values can be filled by replacing them with the most frequent category in the column.\n",
    "\n",
    "When to use:\n",
    "- If the missing values are few, replace them with the most common category.\n",
    "- If the number of missing values is large, consider replacing them with a new category, such as \"Unknown\" or \"Missing.\"\n",
    "\n",
    "This approach ensures that you retain the structure of your categorical data while handling the missing values effectively.\n",
    "\n",
    "\n",
    "\n"
   ]
  },
  {
   "attachments": {
    "image-2.png": {
     "image/png": "[encoded data removed]"
    },
    "image.png": {
     "image/png": "[encoded data removed]"
    }
   },
   "cell_type": "markdown",
   "metadata": {},
   "source": [
    "#### 5. Forward Fill and Backward Fill\n",
    "\n",
    "Forward Fill (ffill) and Backward Fill (bfill) are techniques to handle missing values by using nearby data points.\n",
    "\n",
    "- Forward Fill (ffill): Fills the missing value with the last available non-missing value.\n",
    "\n",
    "- Backward Fill (bfill): Fills the missing value with the next available non-missing value.\n",
    "\n",
    "\n",
    "**#Forward fill missing values in a specific column**\n",
    "\n",
    "df['column_name'].fillna(method='ffill', inplace=True)\n",
    "\n",
    "**#Forward fill missing values in the entire DataFrame**\n",
    "\n",
    "df.ffill(inplace=True)\n",
    "\n",
    "![ffill](attachment:image.png)\n",
    "\n",
    "\n",
    "\n",
    "**#Backward fill missing values in a specific column**\n",
    "\n",
    "df['column_name'].fillna(method='bfill', inplace=True)\n",
    "\n",
    "**#Backward fill missing values in the entire DataFrame**\n",
    "\n",
    "df.bfill(inplace=True)\n",
    "\n",
    "![bfill](attachment:image-2.png)\n",
    "\n"
   ]
  },
  {
   "cell_type": "markdown",
   "metadata": {},
   "source": []
  },
  {
   "cell_type": "markdown",
   "metadata": {},
   "source": [
    "#### 6. Interpolation\n",
    "\n",
    "Interpolation is a method of filling missing values by estimating them based on nearby data points.\n",
    "\n",
    "It is mainly used for time-series data or when the missing values are expected to follow a smooth trend.\n",
    "\n",
    "This technique is also helpful when the data is sampled at regular intervals.\n",
    "\n",
    "You can think of interpolation as creating a weighted average, where closer points have more influence than distant ones.\n",
    "\n"
   ]
  },
  {
   "cell_type": "code",
   "execution_count": 37,
   "metadata": {},
   "outputs": [],
   "source": [
    "# Linear interpolation for a specific column\n",
    "df['column_name'].interpolate(method='linear', inplace=True)\n",
    "\n",
    "# Linear interpolation for the entire DataFrame\n",
    "df.interpolate(method='linear', inplace=True)"
   ]
  },
  {
   "cell_type": "markdown",
   "metadata": {},
   "source": [
    "#### 7. Model-Based Imputation (Regression Model)\n",
    "\n",
    "In earlier methods, we did not use the relationships between the missing value and other variables.\n",
    "\n",
    "In model-based imputation, we build a predictive model to estimate missing values using other features in the dataset.\n",
    "\n",
    "If the missing value is in a continuous variable, a regression model can be used.\n",
    "\n",
    "If it’s in a categorical variable, a classification model can be used.\n",
    "\n",
    "This approach helps make better use of the available information to fill in missing data."
   ]
  },
  {
   "cell_type": "markdown",
   "metadata": {},
   "source": [
    "#### 8. Multiple Imputation\n",
    "\n",
    "Multiple Imputation is an advanced method for filling missing values using a technique called Iterative Imputer from the scikit-learn library.\n",
    "\n",
    "It follows the MICE (Multiple Imputation by Chained Equations) approach, where missing values are filled one column at a time, using the other columns as predictors.\n",
    "\n",
    "For example, if 'Age' and 'Fare' are closely related (people paying lower fares are younger, and higher fares are paid by older people), we can use 'Fare' to better estimate the missing 'Age' values.\n",
    "This method considers multiple features together, making it a multivariate approach for more accurate imputations."
   ]
  },
  {
   "cell_type": "code",
   "execution_count": null,
   "metadata": {},
   "outputs": [],
   "source": [
    "import pandas as pd\n",
    "from sklearn.experimental import enable_iterative_imputer\n",
    "from sklearn.impute import IterativeImputer\n",
    "\n",
    "cols = ['SibSp', 'Fare', 'Age']\n",
    "X = df[cols]\n",
    "\n",
    "impute_it = IterativeImputer()\n",
    "impute_it.fit_transform(X)"
   ]
  },
  {
   "cell_type": "markdown",
   "metadata": {},
   "source": [
    "Now let’s see how IterativeImputer works. For all rows in which ‘Age’ is not missing, sci-kit learn runs a regression model. It uses ‘Sib sp’ and ‘Fare’ as the features and ‘Age’ as the target. And then, for all rows for which ‘Age’ is missing, it makes predictions for ‘Age’ by passing ‘Sib sp’ and ‘Fare’ to the training model. So it actually builds a regression model with two features and one target and then makes predictions on any places where there are missing values. And those predictions are the imputed values."
   ]
  },
  {
   "cell_type": "markdown",
   "metadata": {},
   "source": [
    "#### 9. K-Nearest Neighbors Imputations (KNNImputer)\n",
    "\n",
    "Imputing missing values using k-Nearest Neighbors (KNN) is a technique where missing values are estimated based on the values of their nearest neighbors in the feature space."
   ]
  },
  {
   "cell_type": "code",
   "execution_count": null,
   "metadata": {},
   "outputs": [],
   "source": [
    "from sklearn.impute import KNNImputer\n",
    "import pandas as pd\n",
    "\n",
    "df = df[[\"survived\", \"pclass\", \"sex\", \"sibsp\", \"parch\", \"fare\", \"age\"]]\n",
    "df = pd.get_dummies(df, columns=['sex'], drop_first=True)\n",
    "\n",
    "# Assuming df is your DataFrame with missing values\n",
    "# For demonstration purposes, let's assume 'Age' is the target variable\n",
    "\n",
    "# Separate the target variable and features\n",
    "y = df['age']\n",
    "X = df.drop(['age'], axis=1)\n",
    "\n",
    "# Create a KNN imputer\n",
    "imputer = KNNImputer(n_neighbors=5)\n",
    "\n",
    "# Perform imputation\n",
    "X_imputed = imputer.fit_transform(X)"
   ]
  }
 ],
 "metadata": {
  "kernelspec": {
   "display_name": "Python 3",
   "language": "python",
   "name": "python3"
  },
  "language_info": {
   "codemirror_mode": {
    "name": "ipython",
    "version": 3
   },
   "file_extension": ".py",
   "mimetype": "text/x-python",
   "name": "python",
   "nbconvert_exporter": "python",
   "pygments_lexer": "ipython3",
   "version": "3.12.8"
  }
 },
 "nbformat": 4,
 "nbformat_minor": 2
}
